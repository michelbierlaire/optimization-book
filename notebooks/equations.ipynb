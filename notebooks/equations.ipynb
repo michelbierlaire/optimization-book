{
 "cells": [
  {
   "cell_type": "markdown",
   "metadata": {},
   "source": [
    "# Optimization: principles and algorithms"
   ]
  },
  {
   "cell_type": "markdown",
   "metadata": {},
   "source": [
    "Bierlaire, M. (2015). *Optimization: Principles and Algorithms.* EPFL Press.<br>\n",
    "The numbering of the algorithms, tables and page refer to the book."
   ]
  },
  {
   "cell_type": "code",
   "execution_count": 1,
   "metadata": {},
   "outputs": [],
   "source": [
    "import numpy as np\n",
    "import matplotlib.pyplot as plt\n",
    "import optimization_book.equations as eq"
   ]
  },
  {
   "cell_type": "markdown",
   "metadata": {},
   "source": [
    "## Algorithm 7.1: machine epsilon"
   ]
  },
  {
   "cell_type": "code",
   "execution_count": 2,
   "metadata": {},
   "outputs": [
    {
     "name": "stdout",
     "output_type": "stream",
     "text": [
      "Machine epsilon: 1.1102230246251565e-16\n"
     ]
    }
   ],
   "source": [
    "eps = eq.machineEpsilon()\n",
    "print(f\"Machine epsilon: {eps}\")"
   ]
  },
  {
   "cell_type": "markdown",
   "metadata": {},
   "source": [
    "## Algorithm 7.2: Newton's method: one variable¶"
   ]
  },
  {
   "cell_type": "markdown",
   "metadata": {},
   "source": [
    "### Example 7.3"
   ]
  },
  {
   "cell_type": "code",
   "execution_count": 3,
   "metadata": {},
   "outputs": [],
   "source": [
    "def ex0703(x):\n",
    "    return x**2 - 2, 2*x\n",
    "x0 = 2\n",
    "eps = 1.0e-15\n",
    "x, iters, message = eq.newtonEquationOneVariable(ex0703, x0, eps)"
   ]
  },
  {
   "cell_type": "code",
   "execution_count": 4,
   "metadata": {},
   "outputs": [
    {
     "data": {
      "text/plain": [
       "1.4142135623730951"
      ]
     },
     "execution_count": 4,
     "metadata": {},
     "output_type": "execute_result"
    }
   ],
   "source": [
    "x"
   ]
  },
  {
   "cell_type": "code",
   "execution_count": 5,
   "metadata": {},
   "outputs": [
    {
     "data": {
      "text/plain": [
       "'Required precision has been reached: 4.440892098500626e-16 <= 1e-15'"
      ]
     },
     "execution_count": 5,
     "metadata": {},
     "output_type": "execute_result"
    }
   ],
   "source": [
    "message"
   ]
  },
  {
   "cell_type": "markdown",
   "metadata": {},
   "source": [
    "Table 7.1, p. 186"
   ]
  },
  {
   "cell_type": "code",
   "execution_count": 6,
   "metadata": {},
   "outputs": [
    {
     "name": "stdout",
     "output_type": "stream",
     "text": [
      "k\txk\t\tF(xk)\t\tF'(xk)\n",
      "0\t+2.000000E+00\t+2.000000E+00\t+4.000000E+00\n",
      "1\t+1.500000E+00\t+2.500000E-01\t+3.000000E+00\n",
      "2\t+1.416667E+00\t+6.944444E-03\t+2.833333E+00\n",
      "3\t+1.414216E+00\t+6.007305E-06\t+2.828431E+00\n",
      "4\t+1.414214E+00\t+4.510614E-12\t+2.828427E+00\n",
      "5\t+1.414214E+00\t+4.440892E-16\t+2.828427E+00\n"
     ]
    }
   ],
   "source": [
    "print(\"k\\txk\\t\\tF(xk)\\t\\tF'(xk)\")\n",
    "for k in iters:\n",
    "    print(f\"{k[0]}\\t{k[1]:+E}\\t{k[2]:+E}\\t{k[3]:+E}\")"
   ]
  },
  {
   "cell_type": "markdown",
   "metadata": {},
   "source": [
    "We plot the value of the iterate and the function as the iterations progress."
   ]
  },
  {
   "cell_type": "code",
   "execution_count": 7,
   "metadata": {},
   "outputs": [
    {
     "data": {
      "image/png": "[encoded data removed]",
      "text/plain": [
       "<Figure size 432x288 with 1 Axes>"
      ]
     },
     "metadata": {
      "needs_background": "light"
     },
     "output_type": "display_data"
    }
   ],
   "source": [
    "plt.xlabel(\"Iteration\")\n",
    "plt.ylabel(\"x\")\n",
    "plt.plot(np.array(iters)[:,1])\n",
    "plt.show()"
   ]
  },
  {
   "cell_type": "markdown",
   "metadata": {},
   "source": [
    "plt.xlabel(\"Iteration\")\n",
    "plt.ylabel(\"F(x)\")\n",
    "plt.plot(np.array(iters)[:,2])\n",
    "plt.show()"
   ]
  },
  {
   "cell_type": "markdown",
   "metadata": {},
   "source": [
    "### Example 7.4"
   ]
  },
  {
   "cell_type": "code",
   "execution_count": 9,
   "metadata": {},
   "outputs": [],
   "source": [
    "def ex0704(x):\n",
    "    f = x - np.sin(x)\n",
    "    g = 1 - np.cos(x)\n",
    "    return f, g"
   ]
  },
  {
   "cell_type": "code",
   "execution_count": 10,
   "metadata": {},
   "outputs": [],
   "source": [
    "x0 = 1\n",
    "eps = 1.0e-15\n",
    "x, iters, message = eq.newtonEquationOneVariable(ex0704, x0, eps)"
   ]
  },
  {
   "cell_type": "code",
   "execution_count": 11,
   "metadata": {},
   "outputs": [
    {
     "data": {
      "text/plain": [
       "1.7074311939305688e-05"
      ]
     },
     "execution_count": 11,
     "metadata": {},
     "output_type": "execute_result"
    }
   ],
   "source": [
    "x"
   ]
  },
  {
   "cell_type": "code",
   "execution_count": 12,
   "metadata": {},
   "outputs": [
    {
     "data": {
      "text/plain": [
       "'Required precision has been reached: 8.296179498587519e-16 <= 1e-15'"
      ]
     },
     "execution_count": 12,
     "metadata": {},
     "output_type": "execute_result"
    }
   ],
   "source": [
    "message"
   ]
  },
  {
   "cell_type": "markdown",
   "metadata": {},
   "source": [
    "Table 7.2, p. 187"
   ]
  },
  {
   "cell_type": "code",
   "execution_count": 13,
   "metadata": {},
   "outputs": [
    {
     "name": "stdout",
     "output_type": "stream",
     "text": [
      "k\txk\t\tF(xk)\t\tF'(xk)\n",
      "0\t+1.000000E+00\t+1.585290E-01\t+4.596977E-01\n",
      "1\t+6.551451E-01\t+4.587079E-02\t+2.070405E-01\n",
      "2\t+4.335904E-01\t+1.345874E-02\t+9.253683E-02\n",
      "3\t+2.881484E-01\t+3.970948E-03\t+4.122830E-02\n",
      "4\t+1.918323E-01\t+1.174397E-03\t+1.834346E-02\n",
      "5\t+1.278097E-01\t+3.476843E-04\t+8.156543E-03\n",
      "6\t+8.518323E-02\t+1.029802E-04\t+3.625898E-03\n",
      "7\t+5.678195E-02\t+3.050772E-05\t+1.611662E-03\n",
      "8\t+3.785260E-02\t+9.038676E-06\t+7.163242E-04\n",
      "9\t+2.523446E-02\t+2.678041E-06\t+3.183722E-04\n",
      "10\t+1.682280E-02\t+7.934824E-07\t+1.414999E-04\n",
      "11\t+1.121515E-02\t+2.351044E-07\t+6.288909E-05\n",
      "12\t+7.476748E-03\t+6.966037E-08\t+2.795075E-05\n",
      "13\t+4.984494E-03\t+2.064008E-08\t+1.242256E-05\n",
      "14\t+3.322995E-03\t+6.115577E-09\t+5.521142E-06\n",
      "15\t+2.215329E-03\t+1.812022E-09\t+2.453841E-06\n",
      "16\t+1.476886E-03\t+5.368955E-10\t+1.090596E-06\n",
      "17\t+9.845907E-04\t+1.590801E-10\t+4.847094E-07\n",
      "18\t+6.563938E-04\t+4.713485E-11\t+2.154264E-07\n",
      "19\t+4.375959E-04\t+1.396588E-11\t+9.574507E-08\n",
      "20\t+2.917306E-04\t+4.138039E-12\t+4.255336E-08\n",
      "21\t+1.944870E-04\t+1.226086E-12\t+1.891261E-08\n",
      "22\t+1.296580E-04\t+3.632846E-13\t+8.405603E-09\n",
      "23\t+8.643869E-05\t+1.076399E-13\t+3.735824E-09\n",
      "24\t+5.762579E-05\t+3.189330E-14\t+1.660366E-09\n",
      "25\t+3.841720E-05\t+9.449865E-15\t+7.379405E-10\n",
      "26\t+2.561147E-05\t+2.799962E-15\t+3.279736E-10\n",
      "27\t+1.707431E-05\t+8.296179E-16\t+1.457661E-10\n"
     ]
    }
   ],
   "source": [
    "print(\"k\\txk\\t\\tF(xk)\\t\\tF'(xk)\")\n",
    "for k in iters:\n",
    "    print(f\"{k[0]}\\t{k[1]:+E}\\t{k[2]:+E}\\t{k[3]:+E}\")"
   ]
  },
  {
   "cell_type": "markdown",
   "metadata": {},
   "source": [
    "We plot the value of the iterate and the function as the iterations progress."
   ]
  },
  {
   "cell_type": "code",
   "execution_count": 14,
   "metadata": {},
   "outputs": [
    {
     "data": {
      "image/png": "[encoded data removed]",
      "text/plain": [
       "<Figure size 432x288 with 1 Axes>"
      ]
     },
     "metadata": {
      "needs_background": "light"
     },
     "output_type": "display_data"
    }
   ],
   "source": [
    "plt.xlabel(\"Iteration\")\n",
    "plt.ylabel(\"x\")\n",
    "plt.plot(np.array(iters)[:,1])\n",
    "plt.show()"
   ]
  },
  {
   "cell_type": "code",
   "execution_count": 15,
   "metadata": {},
   "outputs": [
    {
     "data": {
      "image/png": "[encoded data removed]",
      "text/plain": [
       "<Figure size 432x288 with 1 Axes>"
      ]
     },
     "metadata": {
      "needs_background": "light"
     },
     "output_type": "display_data"
    }
   ],
   "source": [
    "plt.xlabel(\"Iteration\")\n",
    "plt.ylabel(\"F(x)\")\n",
    "plt.plot(np.array(iters)[:,2])\n",
    "plt.show()"
   ]
  },
  {
   "cell_type": "markdown",
   "metadata": {},
   "source": [
    "### Example 7.5"
   ]
  },
  {
   "cell_type": "code",
   "execution_count": 16,
   "metadata": {},
   "outputs": [],
   "source": [
    "def ex0705(x):\n",
    "    f = np.arctan(x)\n",
    "    g = 1.0 / (1.0 + x * x)\n",
    "    return f, g"
   ]
  },
  {
   "cell_type": "code",
   "execution_count": 17,
   "metadata": {},
   "outputs": [
    {
     "name": "stderr",
     "output_type": "stream",
     "text": [
      "<ipython-input-16-e13f5fab061c>:3: RuntimeWarning: overflow encountered in double_scalars\n",
      "  g = 1.0 / (1.0 + x * x)\n"
     ]
    }
   ],
   "source": [
    "x0 = 1.5\n",
    "eps = 1.0e-15\n",
    "x, iters, message = eq.newtonEquationOneVariable(ex0705, x0, eps)"
   ]
  },
  {
   "cell_type": "code",
   "execution_count": 18,
   "metadata": {},
   "outputs": [],
   "source": [
    "x"
   ]
  },
  {
   "cell_type": "code",
   "execution_count": 19,
   "metadata": {},
   "outputs": [
    {
     "data": {
      "text/plain": [
       "'Division by zero'"
      ]
     },
     "execution_count": 19,
     "metadata": {},
     "output_type": "execute_result"
    }
   ],
   "source": [
    "message"
   ]
  },
  {
   "cell_type": "markdown",
   "metadata": {},
   "source": [
    "Table 7.3 p. 188."
   ]
  },
  {
   "cell_type": "code",
   "execution_count": 20,
   "metadata": {},
   "outputs": [
    {
     "name": "stdout",
     "output_type": "stream",
     "text": [
      "k\txk\t\tF(xk)\t\tF'(xk)\n",
      "0\t+1.500000E+00\t+9.827937E-01\t+3.076923E-01\n",
      "1\t-1.694080E+00\t-1.037546E+00\t+2.584042E-01\n",
      "2\t+2.321127E+00\t+1.164002E+00\t+1.565526E-01\n",
      "3\t-5.114088E+00\t-1.377695E+00\t+3.682713E-02\n",
      "4\t+3.229568E+01\t+1.539842E+00\t+9.578441E-04\n",
      "5\t-1.575317E+03\t-1.570162E+00\t+4.029619E-07\n",
      "6\t+3.894976E+06\t+1.570796E+00\t+6.591594E-14\n",
      "7\t-2.383029E+13\t-1.570796E+00\t+1.760927E-27\n",
      "8\t+8.920280E+26\t+1.570796E+00\t+1.256733E-54\n",
      "9\t-1.249905E+54\t-1.570796E+00\t+6.400977E-109\n",
      "10\t+2.453995E+108\t+1.570796E+00\t+1.660553E-217\n",
      "11\t-9.459476E+216\t-1.570796E+00\t+0.000000E+00\n"
     ]
    }
   ],
   "source": [
    "print(\"k\\txk\\t\\tF(xk)\\t\\tF'(xk)\")\n",
    "for k in iters:\n",
    "    print(f\"{k[0]}\\t{k[1]:+E}\\t{k[2]:+E}\\t{k[3]:+E}\")"
   ]
  },
  {
   "cell_type": "markdown",
   "metadata": {},
   "source": [
    "We plot the value of the iterates for the first 5 iterations"
   ]
  },
  {
   "cell_type": "code",
   "execution_count": 23,
   "metadata": {},
   "outputs": [
    {
     "data": {
      "image/png": "[encoded data removed]",
      "text/plain": [
       "<Figure size 432x288 with 1 Axes>"
      ]
     },
     "metadata": {
      "needs_background": "light"
     },
     "output_type": "display_data"
    }
   ],
   "source": [
    "plt.xlabel(\"Iteration\")\n",
    "plt.ylabel(\"x\")\n",
    "plt.plot(np.array(iters)[:5,1])\n",
    "plt.show()"
   ]
  },
  {
   "cell_type": "code",
   "execution_count": 22,
   "metadata": {},
   "outputs": [
    {
     "data": {
      "image/png": "[encoded data removed]",
      "text/plain": [
       "<Figure size 432x288 with 1 Axes>"
      ]
     },
     "metadata": {
      "needs_background": "light"
     },
     "output_type": "display_data"
    }
   ],
   "source": [
    "plt.xlabel(\"Iteration\")\n",
    "plt.ylabel(\"F(x)\")\n",
    "plt.plot(np.array(iters)[:,2])\n",
    "plt.show()"
   ]
  },
  {
   "cell_type": "code",
   "execution_count": null,
   "metadata": {},
   "outputs": [],
   "source": []
  }
 ],
 "metadata": {
  "kernelspec": {
   "display_name": "Python 3",
   "language": "python",
   "name": "python3"
  },
  "language_info": {
   "codemirror_mode": {
    "name": "ipython",
    "version": 3
   },
   "file_extension": ".py",
   "mimetype": "text/x-python",
   "name": "python",
   "nbconvert_exporter": "python",
   "pygments_lexer": "ipython3",
   "version": "3.8.2"
  }
 },
 "nbformat": 4,
 "nbformat_minor": 4
}
