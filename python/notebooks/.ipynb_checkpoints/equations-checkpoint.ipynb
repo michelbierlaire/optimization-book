{
 "cells": [
  {
   "cell_type": "markdown",
   "metadata": {},
   "source": [
    "# Optimization: principles and algorithms"
   ]
  },
  {
   "cell_type": "markdown",
   "metadata": {},
   "source": [
    "Bierlaire, M. (2015). *Optimization: Principles and Algorithms.* EPFL Press.\n"
   ]
  },
  {
   "cell_type": "markdown",
   "metadata": {},
   "source": [
    "# Part III: Solving equations"
   ]
  },
  {
   "cell_type": "markdown",
   "metadata": {},
   "source": [
    "This notebook replicates the examples from the book, using the python package optimization_book. The numbering of the algorithms, tables and page refer to the book."
   ]
  },
  {
   "cell_type": "code",
   "execution_count": 1,
   "metadata": {},
   "outputs": [],
   "source": [
    "import numpy as np\n",
    "import matplotlib.pyplot as plt\n",
    "import optimization_book.equations as eq"
   ]
  },
  {
   "cell_type": "markdown",
   "metadata": {},
   "source": [
    "## Algorithm 7.1: machine epsilon"
   ]
  },
  {
   "cell_type": "code",
   "execution_count": 2,
   "metadata": {},
   "outputs": [
    {
     "name": "stdout",
     "output_type": "stream",
     "text": [
      "Machine epsilon: 1.1102230246251565e-16\n"
     ]
    }
   ],
   "source": [
    "eps = eq.machineEpsilon()\n",
    "print(f\"Machine epsilon: {eps}\")"
   ]
  },
  {
   "cell_type": "markdown",
   "metadata": {},
   "source": [
    "## Algorithm 7.2: Newton's method: one variable¶"
   ]
  },
  {
   "cell_type": "markdown",
   "metadata": {},
   "source": [
    "### Example 7.3"
   ]
  },
  {
   "cell_type": "code",
   "execution_count": 3,
   "metadata": {},
   "outputs": [],
   "source": [
    "def ex0703(x):\n",
    "    \"\"\"Example function\n",
    "\n",
    "    :param x: variable\n",
    "    :type x: float\n",
    "\n",
    "    :return: F(x) and F'(x)\n",
    "    :rtype: float, float\n",
    "    \"\"\"\n",
    "    return x ** 2 - 2, 2 * x\n",
    "\n",
    "\n",
    "x0 = 2\n",
    "eps = 1.0e-15\n",
    "xstar, iters, message = eq.newtonEquationOneVariable(ex0703, x0, eps)\n"
   ]
  },
  {
   "cell_type": "code",
   "execution_count": 4,
   "metadata": {},
   "outputs": [
    {
     "data": {
      "text/plain": [
       "1.4142135623730951"
      ]
     },
     "execution_count": 4,
     "metadata": {},
     "output_type": "execute_result"
    }
   ],
   "source": [
    "xstar"
   ]
  },
  {
   "cell_type": "code",
   "execution_count": 5,
   "metadata": {},
   "outputs": [
    {
     "data": {
      "text/plain": [
       "'Required precision has been reached: 4.440892098500626e-16 <= 1e-15'"
      ]
     },
     "execution_count": 5,
     "metadata": {},
     "output_type": "execute_result"
    }
   ],
   "source": [
    "message"
   ]
  },
  {
   "cell_type": "markdown",
   "metadata": {},
   "source": [
    "Table 7.1, p. 186"
   ]
  },
  {
   "cell_type": "code",
   "execution_count": 6,
   "metadata": {},
   "outputs": [
    {
     "name": "stdout",
     "output_type": "stream",
     "text": [
      "k\txk\t\tF(xk)\t\tF'(xk)\n",
      "0\t+2.000000E+00\t+2.000000E+00\t+4.000000E+00\n",
      "1\t+1.500000E+00\t+2.500000E-01\t+3.000000E+00\n",
      "2\t+1.416667E+00\t+6.944444E-03\t+2.833333E+00\n",
      "3\t+1.414216E+00\t+6.007305E-06\t+2.828431E+00\n",
      "4\t+1.414214E+00\t+4.510614E-12\t+2.828427E+00\n",
      "5\t+1.414214E+00\t+4.440892E-16\t+2.828427E+00\n"
     ]
    }
   ],
   "source": [
    "print(\"k\\txk\\t\\tF(xk)\\t\\tF'(xk)\")\n",
    "for k in iters:\n",
    "    print(f'{k[0]}\\t{k[1]:+E}\\t{k[2]:+E}\\t{k[3]:+E}')"
   ]
  },
  {
   "cell_type": "markdown",
   "metadata": {},
   "source": [
    "We plot the value of the iterate and the function as the iterations progress."
   ]
  },
  {
   "cell_type": "code",
   "execution_count": 7,
   "metadata": {},
   "outputs": [
    {
     "data": {
      "image/png": "[encoded data removed]",
      "text/plain": [
       "<Figure size 432x288 with 1 Axes>"
      ]
     },
     "metadata": {
      "needs_background": "light"
     },
     "output_type": "display_data"
    }
   ],
   "source": [
    "plt.title('Algorithm 7.2 on example 7.3: solution')\n",
    "plt.xlabel('Iteration')\n",
    "plt.ylabel('x')\n",
    "plt.plot(np.array(iters)[:, 1])\n",
    "plt.show()"
   ]
  },
  {
   "cell_type": "code",
   "execution_count": 8,
   "metadata": {},
   "outputs": [
    {
     "data": {
      "image/png": "[encoded data removed]",
      "text/plain": [
       "<Figure size 432x288 with 1 Axes>"
      ]
     },
     "metadata": {
      "needs_background": "light"
     },
     "output_type": "display_data"
    }
   ],
   "source": [
    "plt.title('Algorithm 7.2 on example 7.3: value of the function')\n",
    "plt.xlabel('Iteration')\n",
    "plt.ylabel('F(x)')\n",
    "plt.plot(np.array(iters)[:, 2])\n",
    "plt.show()"
   ]
  },
  {
   "cell_type": "markdown",
   "metadata": {},
   "source": [
    "### Example 7.4"
   ]
  },
  {
   "cell_type": "code",
   "execution_count": 9,
   "metadata": {},
   "outputs": [],
   "source": [
    "def ex0704(x):\n",
    "    \"\"\"Example function\n",
    "\n",
    "    :param x: variable\n",
    "    :type x: float\n",
    "\n",
    "    :return: F(x) and F'(x)\n",
    "    :rtype: float, float\n",
    "    \"\"\"\n",
    "    f = x - np.sin(x)\n",
    "    g = 1 - np.cos(x)\n",
    "    return f, g"
   ]
  },
  {
   "cell_type": "code",
   "execution_count": 10,
   "metadata": {},
   "outputs": [],
   "source": [
    "x0 = 1\n",
    "eps = 1.0e-15\n",
    "xstar, iters, message = eq.newtonEquationOneVariable(ex0704, x0, eps)"
   ]
  },
  {
   "cell_type": "code",
   "execution_count": 11,
   "metadata": {},
   "outputs": [
    {
     "data": {
      "text/plain": [
       "1.7074311939305688e-05"
      ]
     },
     "execution_count": 11,
     "metadata": {},
     "output_type": "execute_result"
    }
   ],
   "source": [
    "xstar"
   ]
  },
  {
   "cell_type": "code",
   "execution_count": 12,
   "metadata": {},
   "outputs": [
    {
     "data": {
      "text/plain": [
       "'Required precision has been reached: 8.296179498587519e-16 <= 1e-15'"
      ]
     },
     "execution_count": 12,
     "metadata": {},
     "output_type": "execute_result"
    }
   ],
   "source": [
    "message"
   ]
  },
  {
   "cell_type": "markdown",
   "metadata": {},
   "source": [
    "Table 7.2, p. 187"
   ]
  },
  {
   "cell_type": "code",
   "execution_count": 13,
   "metadata": {},
   "outputs": [
    {
     "name": "stdout",
     "output_type": "stream",
     "text": [
      "k\txk\t\tF(xk)\t\tF'(xk)\n",
      "0\t+1.000000E+00\t+1.585290E-01\t+4.596977E-01\n",
      "1\t+6.551451E-01\t+4.587079E-02\t+2.070405E-01\n",
      "2\t+4.335904E-01\t+1.345874E-02\t+9.253683E-02\n",
      "3\t+2.881484E-01\t+3.970948E-03\t+4.122830E-02\n",
      "4\t+1.918323E-01\t+1.174397E-03\t+1.834346E-02\n",
      "5\t+1.278097E-01\t+3.476843E-04\t+8.156543E-03\n",
      "6\t+8.518323E-02\t+1.029802E-04\t+3.625898E-03\n",
      "7\t+5.678195E-02\t+3.050772E-05\t+1.611662E-03\n",
      "8\t+3.785260E-02\t+9.038676E-06\t+7.163242E-04\n",
      "9\t+2.523446E-02\t+2.678041E-06\t+3.183722E-04\n",
      "10\t+1.682280E-02\t+7.934824E-07\t+1.414999E-04\n",
      "11\t+1.121515E-02\t+2.351044E-07\t+6.288909E-05\n",
      "12\t+7.476748E-03\t+6.966037E-08\t+2.795075E-05\n",
      "13\t+4.984494E-03\t+2.064008E-08\t+1.242256E-05\n",
      "14\t+3.322995E-03\t+6.115577E-09\t+5.521142E-06\n",
      "15\t+2.215329E-03\t+1.812022E-09\t+2.453841E-06\n",
      "16\t+1.476886E-03\t+5.368955E-10\t+1.090596E-06\n",
      "17\t+9.845907E-04\t+1.590801E-10\t+4.847094E-07\n",
      "18\t+6.563938E-04\t+4.713485E-11\t+2.154264E-07\n",
      "19\t+4.375959E-04\t+1.396588E-11\t+9.574507E-08\n",
      "20\t+2.917306E-04\t+4.138039E-12\t+4.255336E-08\n",
      "21\t+1.944870E-04\t+1.226086E-12\t+1.891261E-08\n",
      "22\t+1.296580E-04\t+3.632846E-13\t+8.405603E-09\n",
      "23\t+8.643869E-05\t+1.076399E-13\t+3.735824E-09\n",
      "24\t+5.762579E-05\t+3.189330E-14\t+1.660366E-09\n",
      "25\t+3.841720E-05\t+9.449865E-15\t+7.379405E-10\n",
      "26\t+2.561147E-05\t+2.799962E-15\t+3.279736E-10\n",
      "27\t+1.707431E-05\t+8.296179E-16\t+1.457661E-10\n"
     ]
    }
   ],
   "source": [
    "print(\"k\\txk\\t\\tF(xk)\\t\\tF'(xk)\")\n",
    "for k in iters:\n",
    "    print(f'{k[0]}\\t{k[1]:+E}\\t{k[2]:+E}\\t{k[3]:+E}')"
   ]
  },
  {
   "cell_type": "markdown",
   "metadata": {},
   "source": [
    "We plot the value of the iterate and the function as the iterations progress."
   ]
  },
  {
   "cell_type": "code",
   "execution_count": 14,
   "metadata": {},
   "outputs": [
    {
     "data": {
      "image/png": "[encoded data removed]",
      "text/plain": [
       "<Figure size 432x288 with 1 Axes>"
      ]
     },
     "metadata": {
      "needs_background": "light"
     },
     "output_type": "display_data"
    }
   ],
   "source": [
    "plt.title('Algorithm 7.2 on example 7.4: solution')\n",
    "plt.xlabel('Iteration')\n",
    "plt.ylabel('x')\n",
    "plt.plot(np.array(iters)[:, 1])\n",
    "plt.show()"
   ]
  },
  {
   "cell_type": "code",
   "execution_count": 15,
   "metadata": {},
   "outputs": [
    {
     "data": {
      "image/png": "[encoded data removed]",
      "text/plain": [
       "<Figure size 432x288 with 1 Axes>"
      ]
     },
     "metadata": {
      "needs_background": "light"
     },
     "output_type": "display_data"
    }
   ],
   "source": [
    "plt.title('Algorithm 7.2 on example 7.4: value of the function')\n",
    "plt.xlabel('Iteration')\n",
    "plt.ylabel('F(x)')\n",
    "plt.plot(np.array(iters)[:, 2])\n",
    "plt.show()"
   ]
  },
  {
   "cell_type": "markdown",
   "metadata": {},
   "source": [
    "### Example 7.5"
   ]
  },
  {
   "cell_type": "code",
   "execution_count": 16,
   "metadata": {},
   "outputs": [],
   "source": [
    "def ex0705(x):\n",
    "    \"\"\"Example function\n",
    "\n",
    "    :param x: variable\n",
    "    :type x: float\n",
    "\n",
    "    :return: F(x) and F'(x)\n",
    "    :rtype: float, float\n",
    "    \"\"\"\n",
    "    f = np.arctan(x)\n",
    "    g = 1.0 / (1.0 + x * x)\n",
    "    return f, g"
   ]
  },
  {
   "cell_type": "code",
   "execution_count": 17,
   "metadata": {},
   "outputs": [
    {
     "name": "stderr",
     "output_type": "stream",
     "text": [
      "<ipython-input-16-29730425f6f2>:11: RuntimeWarning: overflow encountered in double_scalars\n",
      "  g = 1.0 / (1.0 + x * x)\n"
     ]
    }
   ],
   "source": [
    "x0 = 1.5\n",
    "eps = 1.0e-15\n",
    "xstar, iters, message = eq.newtonEquationOneVariable(ex0705, x0, eps)"
   ]
  },
  {
   "cell_type": "code",
   "execution_count": 18,
   "metadata": {},
   "outputs": [],
   "source": [
    "xstar"
   ]
  },
  {
   "cell_type": "code",
   "execution_count": 19,
   "metadata": {},
   "outputs": [
    {
     "data": {
      "text/plain": [
       "'Division by zero'"
      ]
     },
     "execution_count": 19,
     "metadata": {},
     "output_type": "execute_result"
    }
   ],
   "source": [
    "message"
   ]
  },
  {
   "cell_type": "markdown",
   "metadata": {},
   "source": [
    "Table 7.3 p. 188."
   ]
  },
  {
   "cell_type": "code",
   "execution_count": 20,
   "metadata": {},
   "outputs": [
    {
     "name": "stdout",
     "output_type": "stream",
     "text": [
      "k\txk\t\tF(xk)\t\tF'(xk)\n",
      "0\t+1.500000E+00\t+9.827937E-01\t+3.076923E-01\n",
      "1\t-1.694080E+00\t-1.037546E+00\t+2.584042E-01\n",
      "2\t+2.321127E+00\t+1.164002E+00\t+1.565526E-01\n",
      "3\t-5.114088E+00\t-1.377695E+00\t+3.682713E-02\n",
      "4\t+3.229568E+01\t+1.539842E+00\t+9.578441E-04\n",
      "5\t-1.575317E+03\t-1.570162E+00\t+4.029619E-07\n",
      "6\t+3.894976E+06\t+1.570796E+00\t+6.591594E-14\n",
      "7\t-2.383029E+13\t-1.570796E+00\t+1.760927E-27\n",
      "8\t+8.920280E+26\t+1.570796E+00\t+1.256733E-54\n",
      "9\t-1.249905E+54\t-1.570796E+00\t+6.400977E-109\n",
      "10\t+2.453995E+108\t+1.570796E+00\t+1.660553E-217\n",
      "11\t-9.459476E+216\t-1.570796E+00\t+0.000000E+00\n"
     ]
    }
   ],
   "source": [
    "print(\"k\\txk\\t\\tF(xk)\\t\\tF'(xk)\")\n",
    "for k in iters:\n",
    "    print(f'{k[0]}\\t{k[1]:+E}\\t{k[2]:+E}\\t{k[3]:+E}')"
   ]
  },
  {
   "cell_type": "markdown",
   "metadata": {},
   "source": [
    "We plot the value of the iterates for the first 5 iterations"
   ]
  },
  {
   "cell_type": "code",
   "execution_count": 21,
   "metadata": {},
   "outputs": [
    {
     "data": {
      "image/png": "[encoded data removed]",
      "text/plain": [
       "<Figure size 432x288 with 1 Axes>"
      ]
     },
     "metadata": {
      "needs_background": "light"
     },
     "output_type": "display_data"
    }
   ],
   "source": [
    "plt.title('Algorithm 7.2 on example 7.5: solution')\n",
    "plt.xlabel('Iteration')\n",
    "plt.ylabel('x')\n",
    "plt.plot(np.array(iters)[:5, 1])\n",
    "plt.show()"
   ]
  },
  {
   "cell_type": "markdown",
   "metadata": {},
   "source": [
    "We plot the value of the function as the iterations progress."
   ]
  },
  {
   "cell_type": "code",
   "execution_count": 22,
   "metadata": {},
   "outputs": [
    {
     "data": {
      "image/png": "[encoded data removed]",
      "text/plain": [
       "<Figure size 432x288 with 1 Axes>"
      ]
     },
     "metadata": {
      "needs_background": "light"
     },
     "output_type": "display_data"
    }
   ],
   "source": [
    "plt.title('Algorithm 7.2 on example 7.5: value of the function')\n",
    "plt.xlabel('Iteration')\n",
    "plt.ylabel('F(x)')\n",
    "plt.plot(np.array(iters)[:, 2])\n",
    "plt.show()"
   ]
  },
  {
   "cell_type": "markdown",
   "metadata": {},
   "source": [
    "### Example 7.11"
   ]
  },
  {
   "cell_type": "code",
   "execution_count": 23,
   "metadata": {},
   "outputs": [],
   "source": [
    "def ex0711(x):\n",
    "    \"\"\"Example function\n",
    "\n",
    "    :param x: variable\n",
    "    :type x: float\n",
    "\n",
    "    :return: F(x) and J(x)\n",
    "    :rtype: np.array, np.array\n",
    "    \"\"\"\n",
    "    f1 = (x[0] + 1) * (x[0] + 1) + x[1] * x[1] - 2\n",
    "    f2 = np.exp(x[0]) + x[1] * x[1] * x[1] - 2\n",
    "    f = np.array([f1, f2])\n",
    "    J11 = 2 * (x[0] + 1)\n",
    "    J12 = 2 * x[1]\n",
    "    J21 = np.exp(x[0])\n",
    "    J22 = 3 * x[1] * x[1]\n",
    "    J = np.array([[J11, J12], [J21, J22]])\n",
    "    return f, J"
   ]
  },
  {
   "cell_type": "code",
   "execution_count": 24,
   "metadata": {},
   "outputs": [],
   "source": [
    "x0 = np.array([1, 1])\n",
    "eps = 1.0e-15\n",
    "xstar, iters, message = eq.newtonSeveralVariables(ex0711, x0, eps)"
   ]
  },
  {
   "cell_type": "code",
   "execution_count": 25,
   "metadata": {},
   "outputs": [
    {
     "data": {
      "text/plain": [
       "array([-9.07601479e-17,  1.00000000e+00])"
      ]
     },
     "execution_count": 25,
     "metadata": {},
     "output_type": "execute_result"
    }
   ],
   "source": [
    "xstar"
   ]
  },
  {
   "cell_type": "code",
   "execution_count": 26,
   "metadata": {},
   "outputs": [
    {
     "data": {
      "text/plain": [
       "'Required precision has been reached: 4.440892098500626e-16 <= 1e-15'"
      ]
     },
     "execution_count": 26,
     "metadata": {},
     "output_type": "execute_result"
    }
   ],
   "source": [
    "message"
   ]
  },
  {
   "cell_type": "markdown",
   "metadata": {},
   "source": [
    "Table 7.4, page 195."
   ]
  },
  {
   "cell_type": "code",
   "execution_count": 27,
   "metadata": {},
   "outputs": [
    {
     "name": "stdout",
     "output_type": "stream",
     "text": [
      "k\txk\t\tF(xk)\t\t||F(xk)||\n",
      "0\t+1.000000E+00\t+3.000000E+00\t+3.457238E+00\n",
      "  \t+1.000000E+00\t+1.718282E+00\n",
      "1\t+1.523592E-01\t+7.566298E-01\t+1.154709E+00\n",
      "  \t+1.195282E+00\t+8.722749E-01\n",
      "2\t-1.083768E-02\t+5.196844E-02\t+1.140426E-01\n",
      "  \t+1.036111E+00\t+1.015135E-01\n",
      "3\t-8.896646E-04\t+1.294452E-03\t+3.942330E-03\n",
      "  \t+1.001535E+00\t+3.723756E-03\n",
      "4\t-1.370089E-06\t+3.137249E-06\t+8.079986E-06\n",
      "  \t+1.000003E+00\t+7.446062E-06\n",
      "5\t-5.538438E-12\t+1.051292E-11\t+2.883112E-11\n",
      "  \t+1.000000E+00\t+2.684608E-11\n",
      "6\t-9.076015E-17\t+0.000000E+00\t+4.440892E-16\n",
      "  \t+1.000000E+00\t+4.440892E-16\n"
     ]
    }
   ],
   "source": [
    "print(\"k\\txk\\t\\tF(xk)\\t\\t||F(xk)||\")\n",
    "for k in iters:\n",
    "    print(f'{k[0]}\\t{k[1][0]:+E}\\t{k[2][0]:+E}\\t{np.linalg.norm(k[2]):+E}')\n",
    "    print(f'  \\t{k[1][1]:+E}\\t{k[2][1]:+E}')"
   ]
  },
  {
   "cell_type": "markdown",
   "metadata": {},
   "source": [
    "We plot the evolution of the norm of the function with the iterations."
   ]
  },
  {
   "cell_type": "code",
   "execution_count": 28,
   "metadata": {},
   "outputs": [
    {
     "data": {
      "image/png": "[encoded data removed]",
      "text/plain": [
       "<Figure size 432x288 with 1 Axes>"
      ]
     },
     "metadata": {
      "needs_background": "light"
     },
     "output_type": "display_data"
    }
   ],
   "source": [
    "norm = [np.linalg.norm(k[2]) for k in iters]\n",
    "plt.title('Algorithm 7.3 with example 7.11')\n",
    "plt.xlabel('Iteration')\n",
    "plt.ylabel('||F(x)||')\n",
    "plt.plot(norm)\n",
    "plt.show()"
   ]
  },
  {
   "cell_type": "markdown",
   "metadata": {},
   "source": [
    "### Example 7.12"
   ]
  },
  {
   "cell_type": "code",
   "execution_count": 29,
   "metadata": {},
   "outputs": [],
   "source": [
    "def ex0712(x):\n",
    "    \"\"\"Example function\n",
    "\n",
    "    :param x: variable\n",
    "    :type x: float\n",
    "\n",
    "    :return: F(x) and J(x)\n",
    "    :rtype: np.array, np.array\n",
    "    \"\"\"\n",
    "    f = np.array(\n",
    "        [\n",
    "            x[0] ** 3 - 3 * x[0] * x[1] ** 2 - 1.0,\n",
    "            x[1] ** 3 - 3 * x[0] ** 2 * x[1],\n",
    "        ]\n",
    "    )\n",
    "    J = np.array(\n",
    "        [\n",
    "            [3 * x[0] ** 2 - 3 * x[1] ** 2, -6 * x[0] * x[1]],\n",
    "            [-6 * x[0] * x[1], 3 * x[1] ** 2 - 3 * x[0] ** 2],\n",
    "        ]\n",
    "    )\n",
    "    return f, J\n"
   ]
  },
  {
   "cell_type": "code",
   "execution_count": 30,
   "metadata": {},
   "outputs": [],
   "source": [
    "eps = 1.0e-15"
   ]
  },
  {
   "cell_type": "markdown",
   "metadata": {},
   "source": [
    "Run the example with $x_0= \\left(\\begin{array}{c} 1 \\\\ 1 \\end{array}\\right)$ and $\\varepsilon = 10^{-15}$"
   ]
  },
  {
   "cell_type": "code",
   "execution_count": 31,
   "metadata": {},
   "outputs": [],
   "source": [
    "x0 = np.array([1, 1])\n",
    "xfirst, _, message = eq.newtonSeveralVariables(ex0712, x0, eps)"
   ]
  },
  {
   "cell_type": "code",
   "execution_count": 32,
   "metadata": {},
   "outputs": [
    {
     "data": {
      "text/plain": [
       "array([1.00000000e+00, 4.93038066e-31])"
      ]
     },
     "execution_count": 32,
     "metadata": {},
     "output_type": "execute_result"
    }
   ],
   "source": [
    "xfirst"
   ]
  },
  {
   "cell_type": "code",
   "execution_count": 33,
   "metadata": {},
   "outputs": [
    {
     "data": {
      "text/plain": [
       "'Required precision has been reached: 1.4791141972893971e-30 <= 1e-15'"
      ]
     },
     "execution_count": 33,
     "metadata": {},
     "output_type": "execute_result"
    }
   ],
   "source": [
    "message"
   ]
  },
  {
   "cell_type": "markdown",
   "metadata": {},
   "source": [
    "Run the example with $x_0= \\left(\\begin{array}{c} -1 \\\\ -1 \\end{array}\\right)$ and $\\varepsilon = 10^{-15}$"
   ]
  },
  {
   "cell_type": "code",
   "execution_count": 34,
   "metadata": {},
   "outputs": [],
   "source": [
    "x0 = np.array([-1, -1])\n",
    "xsecond, _, message = eq.newtonSeveralVariables(ex0712, x0, eps)"
   ]
  },
  {
   "cell_type": "code",
   "execution_count": 35,
   "metadata": {},
   "outputs": [
    {
     "data": {
      "text/plain": [
       "array([-0.5      , -0.8660254])"
      ]
     },
     "execution_count": 35,
     "metadata": {},
     "output_type": "execute_result"
    }
   ],
   "source": [
    "xsecond"
   ]
  },
  {
   "cell_type": "code",
   "execution_count": 36,
   "metadata": {},
   "outputs": [
    {
     "data": {
      "text/plain": [
       "'Required precision has been reached: 2.482534153247273e-16 <= 1e-15'"
      ]
     },
     "execution_count": 36,
     "metadata": {},
     "output_type": "execute_result"
    }
   ],
   "source": [
    "message"
   ]
  },
  {
   "cell_type": "markdown",
   "metadata": {},
   "source": [
    "Run the example with $x_0= \\left(\\begin{array}{c} 0 \\\\ 1 \\end{array}\\right)$ and $\\varepsilon = 10^{-15}$\n"
   ]
  },
  {
   "cell_type": "code",
   "execution_count": 37,
   "metadata": {},
   "outputs": [],
   "source": [
    "x0 = np.array([0, 1])\n",
    "xthird, _, message = eq.newtonSeveralVariables(ex0712, x0, eps)"
   ]
  },
  {
   "cell_type": "code",
   "execution_count": 38,
   "metadata": {},
   "outputs": [
    {
     "data": {
      "text/plain": [
       "array([-0.5      ,  0.8660254])"
      ]
     },
     "execution_count": 38,
     "metadata": {},
     "output_type": "execute_result"
    }
   ],
   "source": [
    "xthird"
   ]
  },
  {
   "cell_type": "code",
   "execution_count": 39,
   "metadata": {},
   "outputs": [
    {
     "data": {
      "text/plain": [
       "'Required precision has been reached: 4.965068306494546e-16 <= 1e-15'"
      ]
     },
     "execution_count": 39,
     "metadata": {},
     "output_type": "execute_result"
    }
   ],
   "source": [
    "message"
   ]
  },
  {
   "cell_type": "markdown",
   "metadata": {},
   "source": [
    "Prepare the fractal"
   ]
  },
  {
   "cell_type": "code",
   "execution_count": 40,
   "metadata": {},
   "outputs": [],
   "source": [
    "resolution = 400"
   ]
  },
  {
   "cell_type": "code",
   "execution_count": 41,
   "metadata": {},
   "outputs": [],
   "source": [
    "def runalgo(x, y):\n",
    "    \"\"\"Run Newton's method for two variables from a given starting point,\n",
    "       and returns the id of the root that has been reached.\n",
    "\n",
    "    :param x: starting value of the first variable\n",
    "    :type x: float\n",
    "\n",
    "    :param y: starting value of the second variable\n",
    "    :type y: float\n",
    "\n",
    "    :return:\n",
    "       - 0 if the algorithm converges to the first root\n",
    "       - 1 if the algorithm converges to the second root\n",
    "       - 2 if the algorithm converges to the third root\n",
    "       - 3 if the algorithm does not converge\n",
    "    :rtype: int\n",
    "\n",
    "    \"\"\"\n",
    "    root, _, _ = eq.newtonSeveralVariables(\n",
    "        ex0712, np.array([x, y]), 1.0e-7\n",
    "    )\n",
    "    if np.linalg.norm(root - xfirst) < 1.0e-7:\n",
    "        return 0\n",
    "    if np.linalg.norm(root - xsecond) < 1.0e-7:\n",
    "        return 1\n",
    "    if np.linalg.norm(root - xthird) < 1.0e-7:\n",
    "        return 2\n",
    "    return 3"
   ]
  },
  {
   "cell_type": "code",
   "execution_count": 42,
   "metadata": {},
   "outputs": [],
   "source": [
    "def fractal(xmin, xmax, ymin, ymax):\n",
    "    \"\"\"Calculate the fractal\n",
    "\n",
    "    :param xmin: minimum value for the first variable.\n",
    "    :type xmin: float\n",
    "\n",
    "    :param xmax: maximum value for the first variable.\n",
    "    :type xmax: float\n",
    "\n",
    "    :param ymin: minimum value for the second variable.\n",
    "    :type ymin: float\n",
    "\n",
    "    :param ymax: maximum value for the second variable.\n",
    "    :type ymax: float\n",
    "\n",
    "    :return: 2D array containing, for each entry, the id of the solution found.\n",
    "    :rtype: 2D np.array\n",
    "    \"\"\"\n",
    "    nx, ny = resolution, resolution\n",
    "    x = np.linspace(xmin, xmax, nx)\n",
    "    y = np.linspace(ymin, ymax, ny)\n",
    "    xv, yv = np.meshgrid(x, y)\n",
    "    return np.vectorize(runalgo)(xv, yv)\n"
   ]
  },
  {
   "cell_type": "code",
   "execution_count": 43,
   "metadata": {},
   "outputs": [],
   "source": [
    "result = fractal(-2, 2, -2, 2)"
   ]
  },
  {
   "cell_type": "code",
   "execution_count": 44,
   "metadata": {},
   "outputs": [
    {
     "data": {
      "image/png": "[encoded data removed]",
      "text/plain": [
       "<Figure size 432x288 with 1 Axes>"
      ]
     },
     "metadata": {
      "needs_background": "light"
     },
     "output_type": "display_data"
    }
   ],
   "source": [
    "plt.title('Figure 7.7(a), p. 196')\n",
    "plt.imshow(result, interpolation='nearest')\n",
    "plt.show()"
   ]
  },
  {
   "cell_type": "code",
   "execution_count": 45,
   "metadata": {},
   "outputs": [],
   "source": [
    "result = fractal(-0.001, 0.001, -0.001, 0.001)"
   ]
  },
  {
   "cell_type": "code",
   "execution_count": 46,
   "metadata": {},
   "outputs": [
    {
     "data": {
      "image/png": "[encoded data removed]",
      "text/plain": [
       "<Figure size 432x288 with 1 Axes>"
      ]
     },
     "metadata": {
      "needs_background": "light"
     },
     "output_type": "display_data"
    }
   ],
   "source": [
    "plt.title('Figure 7.7(b), p. 196')\n",
    "plt.imshow(result, interpolation='nearest')\n",
    "plt.show()"
   ]
  }
 ],
 "metadata": {
  "kernelspec": {
   "display_name": "Python 3",
   "language": "python",
   "name": "python3"
  },
  "language_info": {
   "codemirror_mode": {
    "name": "ipython",
    "version": 3
   },
   "file_extension": ".py",
   "mimetype": "text/x-python",
   "name": "python",
   "nbconvert_exporter": "python",
   "pygments_lexer": "ipython3",
   "version": "3.9.5"
  }
 },
 "nbformat": 4,
 "nbformat_minor": 4
}
