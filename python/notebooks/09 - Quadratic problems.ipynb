{
 "cells": [
  {
   "cell_type": "markdown",
   "metadata": {},
   "source": [
    "# Optimization: principles and algorithms"
   ]
  },
  {
   "cell_type": "markdown",
   "metadata": {},
   "source": [
    "Bierlaire, M. (2015). *Optimization: Principles and Algorithms.* EPFL Press."
   ]
  },
  {
   "cell_type": "markdown",
   "metadata": {},
   "source": [
    "# Chapter 9: Quadratic problems"
   ]
  },
  {
   "cell_type": "markdown",
   "metadata": {},
   "source": [
    "This notebook replicates the examples from the book, using the python package optimization_book. The numbering of the algorithms, tables and page refer to the book."
   ]
  },
  {
   "cell_type": "code",
   "execution_count": 1,
   "metadata": {},
   "outputs": [],
   "source": [
    "import numpy as np\n",
    "import matplotlib.pyplot as plt\n",
    "import optimization_book.unconstrained as unc\n",
    "import optimization_book.exceptions as excep"
   ]
  },
  {
   "cell_type": "markdown",
   "metadata": {},
   "source": [
    "### Algorithm 9.1: quadratic problems: direct solution"
   ]
  },
  {
   "cell_type": "markdown",
   "metadata": {},
   "source": [
    "Example 9.8: $Q=\\left(\\begin{array}{cccc} 1& 1 & 1 & 1 \\\\ 1 & 2 & 2 & 2 \\\\ 1 & 2 & 3 & 3 \\\\ 1 & 2 & 3 & 4\\end{array}\\right)$, $b=\\left(\\begin{array}{c}-4 \\\\ -7 \\\\ -9 \\\\ -10\\end{array}\\right)$"
   ]
  },
  {
   "cell_type": "code",
   "execution_count": 2,
   "metadata": {},
   "outputs": [
    {
     "name": "stdout",
     "output_type": "stream",
     "text": [
      "[1. 1. 1. 1.]\n"
     ]
    }
   ],
   "source": [
    "Q = np.array([[1, 1, 1, 1],\n",
    "              [1, 2, 2, 2],\n",
    "              [1, 2, 3, 3],\n",
    "              [1, 2, 3, 4]])\n",
    "b = np.array([-4, -7, -9, -10])\n",
    "s = unc.quadraticDirect(Q, b)\n",
    "print(s)"
   ]
  },
  {
   "cell_type": "markdown",
   "metadata": {},
   "source": [
    "### Algorithm 9.2: Conjugate gradient method"
   ]
  },
  {
   "cell_type": "markdown",
   "metadata": {},
   "source": [
    "Run the algorithm from $x_0=\\left(\\begin{array}{c}5 \\\\ 5 \\\\ 5 \\\\ 5 \\end{array}\\right)$."
   ]
  },
  {
   "cell_type": "code",
   "execution_count": 3,
   "metadata": {},
   "outputs": [
    {
     "name": "stdout",
     "output_type": "stream",
     "text": [
      "[1. 1. 1. 1.]\n"
     ]
    }
   ],
   "source": [
    "x0 = np.array([5.0, 5.0, 5.0, 5.0])\n",
    "x, iters = unc.conjugateGradient(Q, b, x0)\n",
    "print(x)"
   ]
  },
  {
   "cell_type": "markdown",
   "metadata": {},
   "source": [
    "Calculate the gradient, to check that it is indeed numerically close to 0."
   ]
  },
  {
   "cell_type": "code",
   "execution_count": 4,
   "metadata": {},
   "outputs": [
    {
     "name": "stdout",
     "output_type": "stream",
     "text": [
      "[-1.63336011e-12 -3.06865644e-12 -4.13535872e-12 -4.70556927e-12]\n"
     ]
    }
   ],
   "source": [
    "print(Q @ x + b)"
   ]
  },
  {
   "cell_type": "markdown",
   "metadata": {},
   "source": [
    "Table 9.1, page 231."
   ]
  },
  {
   "cell_type": "code",
   "execution_count": 5,
   "metadata": {},
   "outputs": [],
   "source": [
    "def oneIter(k, iter):\n",
    "    \"\"\"Print the information about one iteration\n",
    "\n",
    "    :param k: iteration number\n",
    "    :type k: int\n",
    "\n",
    "    :param iter: information about the iteration: xk, gk, dk, alphak, betak\n",
    "    :type iter: tuple(np.array, np.array, np.array, float, float)\n",
    "    \"\"\"\n",
    "    for i in range(4):\n",
    "        if i == 0:\n",
    "            print(\n",
    "                f'{k}\\t'\n",
    "                f'{iter[0][i]:+E}\\t'\n",
    "                f'{iter[1][i]:+E}\\t'\n",
    "                f'{iter[2][i]:+E}\\t'\n",
    "                f'{iter[3]:+E}\\t'\n",
    "                f'{iter[4]:+E}'\n",
    "            )\n",
    "        else:\n",
    "            print(\n",
    "                f'\\t'\n",
    "                f'{iter[0][i]:+E}\\t'\n",
    "                f'{iter[1][i]:+E}\\t'\n",
    "                f'{iter[2][i]:+E}'\n",
    "            )\n"
   ]
  },
  {
   "cell_type": "code",
   "execution_count": 6,
   "metadata": {},
   "outputs": [
    {
     "name": "stdout",
     "output_type": "stream",
     "text": [
      "k\txk\t\tgk\t\tdk\t\talphak\t\tbetak\n",
      "-------------------------------------------------------------------------------------\n",
      "0\t+5.000000E+00\t+1.600000E+01\t-1.600000E+01\t+1.207658E-01\t+0.000000E+00\n",
      "\t+5.000000E+00\t+2.800000E+01\t-2.800000E+01\n",
      "\t+5.000000E+00\t+3.600000E+01\t-3.600000E+01\n",
      "\t+5.000000E+00\t+4.000000E+01\t-4.000000E+01\n",
      "-------------------------------------------------------------------------------------\n",
      "1\t+3.067747E+00\t+1.508100E+00\t-1.525788E+00\t+1.029534E+00\t+1.105469E-03\n",
      "\t+1.618557E+00\t+9.484536E-01\t-9.794067E-01\n",
      "\t+6.524300E-01\t-2.297496E-01\t+1.899527E-01\n",
      "\t+1.693667E-01\t-1.060383E+00\t+1.016164E+00\n",
      "-------------------------------------------------------------------------------------\n",
      "2\t+1.496896E+00\t+1.706557E-01\t-1.976757E-01\t+2.371723E+00\t+1.770889E-02\n",
      "\t+6.102242E-01\t-1.555851E-01\t+1.382409E-01\n",
      "\t+8.479928E-01\t-9.204998E-02\t+9.541383E-02\n",
      "\t+1.215542E+00\t+1.234923E-01\t-1.054971E-01\n",
      "-------------------------------------------------------------------------------------\n",
      "3\t+1.028064E+00\t+5.777961E-03\t-8.275692E-03\t+3.391183E+00\t+1.263550E-02\n",
      "\t+9.380933E-01\t-1.650846E-02\t+1.825520E-02\n",
      "\t+1.074288E+00\t+2.311184E-02\t-2.190624E-02\n",
      "\t+9.653322E-01\t-1.155592E-02\t+1.022291E-02\n",
      "-------------------------------------------------------------------------------------\n",
      "4\t+1.000000E+00\t-1.633360E-12\t+1.633360E-12\t+3.391183E+00\t+5.271931E-20\n",
      "\t+1.000000E+00\t-3.068656E-12\t+3.068656E-12\n",
      "\t+1.000000E+00\t-4.135359E-12\t+4.135359E-12\n",
      "\t+1.000000E+00\t-4.705569E-12\t+4.705569E-12\n"
     ]
    }
   ],
   "source": [
    "print(\"k\\txk\\t\\tgk\\t\\tdk\\t\\talphak\\t\\tbetak\")\n",
    "for k, it in enumerate(iters):\n",
    "    print(85*'-')\n",
    "    oneIter(k, it)\n",
    "   "
   ]
  },
  {
   "cell_type": "markdown",
   "metadata": {},
   "source": [
    "An error is triggered if the matrix is not definite positive. Here, $Q=\\left(\\begin{array}{cccc} 1& 2 & 3 & 4 \\\\ 5 & 6 & 7 & 8 \\\\ 9 & 10 & 11 & 12 \\\\ 13 & 14 & 15 & 16\\end{array}\\right)$"
   ]
  },
  {
   "cell_type": "code",
   "execution_count": 7,
   "metadata": {},
   "outputs": [
    {
     "name": "stdout",
     "output_type": "stream",
     "text": [
      "Exception raised: The matrix must be positive definite\n"
     ]
    }
   ],
   "source": [
    "Q = np.array([[1, 2, 3, 4], \n",
    "              [5, 6, 7, 8],\n",
    "              [9, 10, 11, 12], \n",
    "              [13, 14, 15, 16]])\n",
    "b = np.array([-4, -7, -9, -10])\n",
    "x0 = np.array([5.0, 5.0, 5.0, 5.0])\n",
    "try:\n",
    "    x, iters = unc.conjugateGradient(Q, b, x0)\n",
    "except excep.optimizationError as e:\n",
    "    print(f'Exception raised: {e}')"
   ]
  }
 ],
 "metadata": {
  "kernelspec": {
   "display_name": "Python 3",
   "language": "python",
   "name": "python3"
  },
  "language_info": {
   "codemirror_mode": {
    "name": "ipython",
    "version": 3
   },
   "file_extension": ".py",
   "mimetype": "text/x-python",
   "name": "python",
   "nbconvert_exporter": "python",
   "pygments_lexer": "ipython3",
   "version": "3.9.5"
  }
 },
 "nbformat": 4,
 "nbformat_minor": 4
}
